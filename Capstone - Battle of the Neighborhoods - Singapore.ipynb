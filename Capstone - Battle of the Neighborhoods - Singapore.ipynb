{
 "cells": [
  {
   "cell_type": "markdown",
   "metadata": {},
   "source": [
    "# _**Battle of the Neighborhoods in Singapore**_"
   ]
  },
  {
   "cell_type": "markdown",
   "metadata": {},
   "source": [
    "## _1.0 Introduction_"
   ]
  },
  {
   "cell_type": "markdown",
   "metadata": {},
   "source": [
    "__1.1 Background:__\n",
    "\n",
    "Singapore is a city-state country located off of the southern tip of the Malaysian peninsula. With clean streets free of littering and vandalism enforced by laws, Singapore has been constantly ranked as one of the top cities to live in around the world. Singapore not only acts as the economic hub of Southeast Asia, but it also has offers great educational opportunities.\n",
    "\n",
    "There are a total of 27 core neighborhoods in Singapore, namely the following:\n",
    "\n",
    "|Neighborhoods|\n",
    "|---|\n",
    "|Bukit Batok|\n",
    "|Bedok |\n",
    "|Bishan |\n",
    "|Bukit Merah |\n",
    "|Bukit Panjang |\n",
    "|Bukit Timah|\n",
    "|Choa Chu Kang|\n",
    "|Clementi|\n",
    "|Central Area|\n",
    "|Geylang|\n",
    "|Hougang|\n",
    "|Jurong East|\n",
    "|Jurong West|\n",
    "|Kallang/Whampoa|\n",
    "|Marine Parade|\n",
    "|Punggol|\n",
    "|Pasir Ris|\n",
    "|Queenstown|\n",
    "|Sembawang|\n",
    "|Serangoon|\n",
    "|Sengkang|\n",
    "|Tampines|\n",
    "|Tengah|\n",
    "|Toa Payoh|\n",
    "|Woodlands|\n",
    "|Yishun|\n",
    "\n",
    "Each of the above neighborhood represents a different geographical region in Singapore, and within each neighborhood, there are many public services and businesses that facilite the daily lives of local Singaporeans.\n",
    "\n",
    "__1.2 Problem Statement:__ \n",
    "\n",
    "The goal of this project is to analyze which neighborhood in Singapore is the most suitable for a middle-income family. The neighborhoods will be evaluated based on the criteria listed below:\n",
    "\n",
    "- Average household income of neighborhood,\n",
    "- Average housing price (3 BR or more),\n",
    "- School distribution,\n",
    "- Public transit access,\n",
    "- Access to grocery stores/markets,\n",
    "- Access to restaurants and hawker centres, and\n",
    "- Access to community and entertainment facilities.\n",
    "\n",
    "\n",
    "The neighborhoods will be evaluated against each other and the median based on a normalized value. Then, a recommendation will be made, using a weighted matrix. "
   ]
  },
  {
   "cell_type": "markdown",
   "metadata": {},
   "source": [
    "## _2.0 Data_"
   ]
  },
  {
   "cell_type": "markdown",
   "metadata": {},
   "source": [
    "We will be analyzing the following data from Singapore:\n",
    "\n",
    "__2.1 Average household income:__\n",
    "- Average income in different neighborhoods of Singapore:\n",
    "https://www.asiaone.com/singapore/what-average-income-singaporeans-living-different-neighbourhoods\n",
    "\n",
    "This information shows the median annual salary recommended to purchase a 4BR HDB apartment in each neighborhood.\n",
    "\n",
    "- Average monthly household income based on the types of dwelling:\n",
    "https://www.tablebuilder.singstat.gov.sg/publicfacing/createSpecialTable.action?refId=16779\n",
    "\n",
    "The information shows the average monthly household income of different dwelling types (i.e. 2 BR HDB, 3 BR HDB, 4 BR HDB, condominiums, etc.). This value can be used as a benchmark for analysis.\n",
    "\n",
    "__2.2 Average housing price:__\n",
    "- Average housing price in different neighborhoods of Singapore:\n",
    "https://www.asiaone.com/singapore/what-average-income-singaporeans-living-different-neighbourhoods\n",
    "\n",
    "This information shows the average housing price for a 4BR HDB apartment in 24 neighborhoods of Singapore, as well as the recommended down payment that is required. Only the average housing price will be used.\n",
    "\n",
    "- HDB Data in Singapore with Neighborhoods: https://data.gov.sg/dataset/hdb-property-information?view_id=82d8145d-daa6-460b-b269-9848c99ed32d&resource_id=482bfa14-2977-4035-9c61-c85f871daf4e\n",
    "\n",
    "The above link contains information regarding all HDBs in Singapore. This information can be used to determine the number of HDB buildings in each neighborhood.\n",
    "\n",
    "__2.3 School Distribution:__ (From Ministry of Education)\n",
    "- https://data.gov.sg/dataset/school-directory-and-information?view_id=ba7c477d-a077-4303-96a1-ac1d4f25b190&resource_id=ede26d32-01af-4228-b1ed-f05c45a1d8ee\n",
    "\n",
    "The above link contains school information as well as neighborhood information. This can be used to learn about the accessibility to educational institution in each neighborhood of Singapore.\n",
    "\n",
    "__2.4 Public Transit Accessibility:__\n",
    "- MRT/LRT/bus stop count: Foursquare API\n",
    "\n",
    "The number of bus stops, MRT stations and LRT stations is a good indicator to the connectivity of each neighborhood. Access to transit can improve family mobility and sustainability. \n",
    "\n",
    "__2.5 Grocery Stores/Markets:__\n",
    "- Foursquare API\n",
    "\n",
    "Having grocery stores and supermarkets within walkable distance is important to the daily living of families. Foursquare will be used to retrieve grocery store and supermarket information within each neighborhood.\n",
    "\n",
    "__2.6 Restaurants/Hawker Centres:__\n",
    "- Foursquare API\n",
    "\n",
    "Whether it is for convenient or for special occasions, having restaurants and hawker centres outside the doorstep can bring convenience to family living. \n",
    "\n",
    "__2.7 Entertainment/Community Facilities:__\n",
    "- Foursquare API\n",
    "\n",
    "Foursquare API will be used to retrieve information within each neighborhood with regards to entertainment and community services, such as swimming pools and theatres. "
   ]
  },
  {
   "cell_type": "code",
   "execution_count": null,
   "metadata": {},
   "outputs": [],
   "source": []
  }
 ],
 "metadata": {
  "kernelspec": {
   "display_name": "Python",
   "language": "python",
   "name": "conda-env-python-py"
  },
  "language_info": {
   "codemirror_mode": {
    "name": "ipython",
    "version": 3
   },
   "file_extension": ".py",
   "mimetype": "text/x-python",
   "name": "python",
   "nbconvert_exporter": "python",
   "pygments_lexer": "ipython3",
   "version": "3.6.7"
  }
 },
 "nbformat": 4,
 "nbformat_minor": 4
}
